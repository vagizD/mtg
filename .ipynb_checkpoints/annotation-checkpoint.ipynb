{
 "cells": [
  {
   "cell_type": "markdown",
   "id": "141fdb74",
   "metadata": {},
   "source": [
    "## Magic: The Gathering\n",
    "\n",
    "### Содержание\n",
    "\n",
    "$\\overline{\\ \\ \\ \\ \\ }$0. Начальный датасет\n",
    "\n",
    "$\\overline{\\ \\ \\ \\ \\ }$1. Распределение карт по цвету в зависимости от редкости\n",
    "\n",
    "$\\overline{\\ \\ \\ \\ \\ }$2. Процент карт, запрещенных в формате Commander, а также распределение по типу для этих карт\n",
    "\n",
    "$\\overline{\\ \\ \\ \\ \\ }$3. Топ-10 карт, не являющихся землями, которые были напечатаны в наибольшем количестве сетов.\n",
    "\n",
    "$\\overline{\\ \\ \\ \\ \\ }$4. Для карт, не являющихся землями, определите, какая часть из них даёт ману с помощью своего эффекта. Покажите распределение по типу маны, который дают эти карты. \n",
    "\n",
    "### Начальный датасет\n",
    "\n",
    "39 переменных, 66770 карт. Много NaN и дубликатов.\n",
    "\n",
    "Колонки `[\"names\", \"border\", \"timeshifted\", \"reserved\", \"release_date\", \"starter\", \"source\"]` не содержат значений, поэтому удалены (осталось 32 колонки).\n",
    "\n",
    "После удаления дубликатов карт стало 47251 (удалялись только дубликаты `subset='multiverse_id'`). Выявлено, что многие карты в датасете являются полностью идентичными, но различаются по сету, в котором были выпущены. Они не удалены, так как имеют разные `multiverse_id`.\n",
    "\n",
    "### Распределение карт по цвету в зависимости от редкости\n",
    "\n",
    "Учитывая, что некоторые карты имеют несколько цветов:"
   ]
  },
  {
   "cell_type": "markdown",
   "id": "77d26510",
   "metadata": {},
   "source": [
    "<img src='visualizations/colors-rarity.png' width=1200/>"
   ]
  },
  {
   "cell_type": "markdown",
   "id": "d6648b0a",
   "metadata": {},
   "source": [
    "Всего представлено 6 редкостей карт, из которых меньше всего представленная - \"Bonus\"(3 карты, 6 карт без цвета). \"Uncommon\" является самой распрострененной редкостью среди карт красного и черного цветов. У зеленого цвета преобладает \"Rare\", у синего - \"Common\". \"Special\" и \"Mythic\" являются единственными редкостями, относительное положение которых неизменно до и после чистки. Так как это сильные карты, их количество требует большего баланса, чем количество более слабых редкостей, ведь именно они могут легко сломить равновесие сил в игре и придется их фиксить, что будет трудно, если много игроков уже купит их.\n",
    "\n",
    "Так как не все карты изначально имеют цвет, требуется посмотреть на сравнение карт по редкостям в общем виде и после чистки:"
   ]
  },
  {
   "cell_type": "markdown",
   "id": "b5c10542",
   "metadata": {},
   "source": [
    "<img src='png/rarities-change.png' width=700/>"
   ]
  },
  {
   "cell_type": "markdown",
   "id": "b018cb21",
   "metadata": {},
   "source": [
    "Редкость \"Bonus\" уменьшилась в три раза после чистки (9 -> 3). Остальные сильных изменений в относительной частоте не претерпели."
   ]
  },
  {
   "cell_type": "markdown",
   "id": "dfc70fbc",
   "metadata": {},
   "source": [
    "### Процент карт, запрещенных в формате Commander, а также распределение по типу для этих карт\n",
    "\n"
   ]
  },
  {
   "cell_type": "markdown",
   "id": "40bfc0b1",
   "metadata": {},
   "source": [
    "0.442% (209 штук) карт являются забаненными в формате Commander, в то время как 1390 не имеют информации по этому формату."
   ]
  },
  {
   "cell_type": "markdown",
   "id": "bea0e216",
   "metadata": {},
   "source": [
    "<img src='png/banned-in-commander.png' width=250/>"
   ]
  },
  {
   "cell_type": "markdown",
   "id": "b76f340d",
   "metadata": {},
   "source": [
    "Исходя из [правила 300.1. (Comprehensive Rules, June 10, 2022, Commander Legends: Battle for Baldur's Gate)](https://mtg.fandom.com/wiki/Card_type), в MGT есть 14 основных типов (basic types) карт, если пока не брать в расчет супертипы (supertypes) и подтипы (subtypes). Это **lands** (земли), **creatures** (существа), **enchantments** (чары, enchanters - существа, которые учат колдовство, например, маги. [Отличаются от sorceries](https://www.quora.com/What-s-the-difference-between-mages-magicians-wizards-enchanters-and-sorcerers)), **artifacts** (артефакты), **[instants](https://mtg-archive.fandom.com/wiki/Instant)** (\"незамедлительные\" заклинания, похожи на колдовство, однако не кладутся на поле боя и имеют несколько другой метод работы), **sorceries** (колдовство, sorcerers - существа, у которых врожденная магия, например, драконы или демоны), **conspiracy** (заговор, используются только в лимитированных версиях игры), **dungeon** (подземелья), **phenomenon** (феномен, используются только в формате Planar Magic), **plane** (карты, обозначающие специалные локации на разных \"planes\" - что-то на подобии Земли), **planeswalker** (имеющие возможность ходить между \"planes\"), **tribal** (племя, имеет много схожего с creatures, тип больше не поддерживающийся R&D MGT), **scheme** (схемы, используются только в казульном формате Archenemy), and **vanguard** (авангард, используется в различных дополнения к стандартному формату игры, играется по другому в отличии от дефолтных карт).\n",
    "\n",
    "Данная таблица показывает распределение типов, беря в расчет наличие только одного типа (если типа нет в подвыборке, то он не представлен на графике):"
   ]
  },
  {
   "cell_type": "markdown",
   "id": "65776dcb",
   "metadata": {},
   "source": [
    "<img src='visualizations/one-types-banned-commander.png' width=700/>"
   ]
  },
  {
   "cell_type": "markdown",
   "id": "167815de",
   "metadata": {},
   "source": [
    "Так как в игре есть карты с двумя типами (Artifact Creature - Golem), то для них есть собственная справка (в рамках только формата Commander только две карты):"
   ]
  },
  {
   "cell_type": "markdown",
   "id": "6d4d56c0",
   "metadata": {},
   "source": [
    "<img src='png/two-basic-types.png' width=900/>"
   ]
  },
  {
   "cell_type": "markdown",
   "id": "48e80d7e",
   "metadata": {},
   "source": [
    "### Топ-10 карт, не являющихся землями, которые были напечатаны в наибольшем количестве сетов."
   ]
  },
  {
   "cell_type": "markdown",
   "id": "eb70b17e",
   "metadata": {},
   "source": [
    "Всего в игре 5029 карт земли и еще 7 карт имеют землю в качестве второго типа (47251 с землей, 42215 без нее)."
   ]
  },
  {
   "cell_type": "markdown",
   "id": "cbf1dc7b",
   "metadata": {},
   "source": [
    "<img src='png/top-10-popular-cards-non-lands.png' width=500/>"
   ]
  },
  {
   "cell_type": "markdown",
   "id": "73f65889",
   "metadata": {},
   "source": [
    "Топ 10 самых реализуемых карт не имеют второго типа. 1 место, карта \"Sol Ring\", выпущена в 30 сетах:"
   ]
  },
  {
   "cell_type": "markdown",
   "id": "6a467c75",
   "metadata": {},
   "source": [
    "<img src='png/sol-ring-sets.png' width=800/>"
   ]
  },
  {
   "cell_type": "markdown",
   "id": "d4202f7c",
   "metadata": {},
   "source": [
    "### Для карт, не являющихся землями, определите, какая часть из них даёт ману с помощью своего эффекта. Покажите распределение по типу маны, который дают эти карты."
   ]
  },
  {
   "cell_type": "markdown",
   "id": "5cd97f9a",
   "metadata": {},
   "source": [
    "[В статье про ману](https://mtg.fandom.com/wiki/Mana) сказано, что в игре 6 типов маны - 5 главных цветов Magic и бесцветная мана."
   ]
  },
  {
   "cell_type": "markdown",
   "id": "83246247",
   "metadata": {},
   "source": [
    "<img src='png/mana-types.png' width=600/>"
   ]
  },
  {
   "cell_type": "markdown",
   "id": "46ccb971",
   "metadata": {},
   "source": [
    "Она может быть сгенерирована землями или получена с помощью способностей (mana abilities) карт. Mana abilities are either **activated abilities** that create mana or **triggered abilities** that triggers off the mana creation and makes more mana itself. Abilities with **targets or loyalty abilities** never count as mana abilities. Таким образом, карты могут кастовать ману с помощью способностей.\n",
    "\n",
    "Считается, что **\"дает ману с помощью своего эффекта\"** подразумевает карты, которые имеют mana abilities. [Отсюда](https://draftsim.com/mtg-mana-ability/) взяты следующие критерии, которые определяют, является ли ability \"mana ability\" ([тоже самое написано в Comprehensive Rules (June 10, 2022—Commander Legends: Battle for Baldur's Gate)](https://mtg.fandom.com/wiki/Mana_ability)):\n",
    "\n",
    "**605.1a** An activated ability is a mana ability if it meets all of the following criteria: it doesn’t require a target (see rule 115.6), it could add mana to a player’s mana pool when it resolves, and it’s not a loyalty ability. (See rule 606, “Loyalty Abilities.”)\n",
    "\n",
    "**605.1b** A triggered ability is a mana ability if it meets all of the following criteria: it doesn’t require a target (see rule 115.6), it triggers from the activation or resolution of an activated mana ability (see rule 605.1a) or from mana being added to a player’s mana pool, and it could add mana to a player’s mana pool when it resolves.\n",
    "\n",
    "1) **Abilities with targets can’t be mana abilities. Deathrite Shaman first ability is not a mana ability.**\n",
    "\n",
    "После просмотра описания карт, выявлено, что в переменной `text` показаны все способности. Наличие слова \"target\" или отсутствие слов \"add\" и \"mana\" (также {W}{U}{B}{R}{G}{C}) делает способность не mana ability. \n",
    "\n",
    "2) **Planeswalker loyalty abilities can’t be mana abilities. The second ability of Koth of the Hammer is not a mana ability.**\n",
    "\n",
    "Таким образом, если переменная loyalty не NaN, то способность не mana ability.\n",
    "\n",
    "3) **Triggered abilities can only be mana abilities if they’re triggered from the activation of an activated mana ability. Caged Sun’s third ability is a mana ability, while Burning-Tree Emissary’s isn’t.**\n",
    "\n",
    "Если триггером способности является mana ability, то эта способность тоже является mana ability. Переменная `text` должная содержать слово \"ability\", если речь идет о trigger ability.\n",
    "\n",
    "4) **Spells can’t be mana abilities. Dark Ritual and Seething Song aren’t mana abilities.**\n",
    "\n",
    "Любые спеллы не являются mana abilities так как они в принципе не являются abilities. Однако, само понятие spell имеет три значения, что затрудняет использование данного пункта. В данном контексте подрузумевается подтип (subtype) spell, однако в датасете в переменной `subtypes` он не представлен. **113.3a** Spell abilities are abilities that are followed as instructions while an instant or sorcery spell is resolving. Any text on an instant or sorcery spell is a spell ability unless it’s an activated ability, a triggered ability, or a static ability that fits the criteria described in rule 113.6."
   ]
  },
  {
   "cell_type": "markdown",
   "id": "8058313a",
   "metadata": {},
   "source": [
    "#### Алгоритм выявления mana ability\n",
    "\n",
    "1) Выявить, имеет ли карта activated or triggered abilities.\n",
    "\n",
    "2) Выявить, activated or triggered abilities являются ли  \"mana abilities\".\n",
    "\n",
    "**Детально**:\n",
    "\n",
    "1) Оставить только NaN значения переменной `loyalty`.\n",
    "\n",
    "2) Переменную `text`, которая содержит информацию о всех способностях, преобразовать в лист способностей.\n",
    "\n",
    "3) Создать переменные `activated_ability` и `triggered_ability`. Заполнить следующим образом:\n",
    "\n",
    "$\\overline{\\ \\ \\ \\ \\ }$3.1) Искать \":\" в описании способностей в `text`, при наличии добавлять в `activated_ability` <-- **602.1.** Activated abilities have a cost and an effect. They are written as “[Cost]: [Effect.] [Activation instructions (if any).]”.\n",
    "\n",
    "$\\overline{\\ \\ \\ \\ \\ }$3.2) Искать \"When/Whenever/At\" в описании способностей в `text`, при наличии добавлять в `triggered_ability` <-- **603.1.** Triggered abilities have a trigger condition and an effect. They are written as “[When/Whenever/At] [trigger condition or event], [effect]. [Instructions (if any).]”.\n",
    "\n",
    "4) Создать переменную `mana_ability`. Заполнить следующим образом:\n",
    "\n",
    "$\\overline{\\ \\ \\ \\ \\ }$4.1) `activated_ability`. Наличие слова \"target\" или отсутствие слов (\"add\" и \"double\") и \"mana\" (также {W}{U}{B}{R}{G}{C}) делают способность не mana ability.\n",
    "\n",
    "$\\overline{\\ \\ \\ \\ \\ }$4.2) `triggered_ability`. Сначала проверка на наличие слова \"mana\" в [trigger condition or event], затем проверка из пункта 4.1."
   ]
  },
  {
   "cell_type": "markdown",
   "id": "7bb5f1cd",
   "metadata": {},
   "source": [
    "#### Результат алгоритма\n",
    "\n",
    "Из 42215 карт 1588 штук имеют mana ability. Оценка результатов проведена простая - поиск карт с mana ability [в интернете](https://draftsim.com/mtg-mana-ability/) дал небольшой список карт, которые должны иметь mana abilities. Все из данных карт - `[\"Caged Sun\", \"Chromatic Star\", \"Chromatic Sphere\", \"Pristine Talisman\", \"Birds of Paradise\", \"Ur-Golem's Eye\", \"Gauntlet of Power\", \"Overgrowth\", \"Marble Diamond\", \"Llanowar Elves\"]` - прошли проверку."
   ]
  },
  {
   "cell_type": "markdown",
   "id": "9c783b1c",
   "metadata": {},
   "source": [
    "Далее, произошел анализ по ключевым словам для определения типов маны (количество маны, которое дает, карта, не учитывалось). Карты могут давать разные маны, давать ману на выбор, давать ранее выбранную ману, или иметь ограничение на ману (например, \"за каждую единицу мощи\"):"
   ]
  },
  {
   "cell_type": "markdown",
   "id": "87cfd613",
   "metadata": {},
   "source": [
    "<img src='png/mana-types-assignment-results.png' width=600/>"
   ]
  },
  {
   "cell_type": "markdown",
   "id": "c195267c",
   "metadata": {},
   "source": [
    "Где:\n",
    "\n",
    "* `continuous` - карты, дающие один или несколько типов маны (без выбора) (например, бесцветная мана дается 298 картами)\n",
    "\n",
    "* `or` - карты, дающие тип маны на выбор\n",
    "\n",
    "* `any` - карты, дающие любой тип маны\n",
    "\n",
    "* `indicator` - карты, дающие тип маны, который определен ранее условленными действиями\n",
    "\n",
    "* `and` - карты, дающие ману в случае, когда типов маны на выбор больше одной маны (например, \"three mana of {G} and/or {R}\")\n",
    "\n",
    "* `restriction` - карты, имеющие дополнительные ограничения на mana ability (например, \"{G} for each Elf you control\" встретилось 9 раз)."
   ]
  },
  {
   "cell_type": "markdown",
   "id": "7da1c6ef",
   "metadata": {},
   "source": [
    "**Overlapping**: Был проведен перебор всех индексов карт, в результате - все карты имеют только какую то одну переменную из выше перечисленных пяти, остальные `NaN`."
   ]
  },
  {
   "cell_type": "markdown",
   "id": "2f387ffe",
   "metadata": {},
   "source": [
    "Видно, что из 1588 карт, которые были классифицированы как имеющие mana ability, только у 1481 карты получилось выявить тип маны, который они могут дать. Проблема заклчается в том, что некоторые карты, у которых нет mana ability, но есть просто activated/triggered ability, попали в список. Например, все карты, чьи способности имеют слово double. Было решено, что на этапе mana ability лучше  иметь часть неверно классифицированных карт и сделать критерии поиска как можно более широкими (как добавление слова double в поиск), чем наоборот. "
   ]
  },
  {
   "cell_type": "markdown",
   "id": "b6e10ced",
   "metadata": {},
   "source": [
    "#### Распределение\n",
    "\n",
    "Для составления иллюстрации распределения, данные, полученные в таблице выше, были аггрегированы следующим образом в колонку `producing_mana_type` (все кроме `restriction`):\n",
    "\n",
    "* `any` - наличие возможности давать любой цвет остается самой универсальной способностью, карты получат отдельную букву `{A}`.\n",
    "\n",
    "* `continuous`, `and`, `or` - так как там содержатся одинаковые по смыслу значения, просто сгруппировать.\n",
    "\n",
    "* `indicator` - присвоить значение `{I}`.\n",
    "\n",
    "* `restriction` - 0 если нет ограничения, 1 - если есть."
   ]
  },
  {
   "cell_type": "markdown",
   "id": "d651af27",
   "metadata": {},
   "source": [
    "**Преобразованные колонки**:\n",
    "\n",
    "* `producing_mana_type` - `({A},)`, `({I},)`, либо tuple с цветами.\n",
    "\n",
    "* `White`, `Blue`, `Black`, `Green`, `Red`, `Colorless` - заранее распределенные цвета по колонкам (0 у карт с `any` или `indicator`).\n",
    "\n",
    "* `has_restriction` - 0 или 1."
   ]
  },
  {
   "cell_type": "markdown",
   "id": "46eea5a1",
   "metadata": {},
   "source": [
    "<img src='visualizations/mana-types.png' width=800/>"
   ]
  },
  {
   "cell_type": "markdown",
   "id": "8bd1580e",
   "metadata": {},
   "source": [
    "Искомое распределение говорит, что большинство карт дают тип маны на выбор `Any`. Среди конкретно цветов, зеденый и бесцветный типы доминируют над остальными (312 и 205 соответственно), в то время как `Indicator` была найден только у 26 карт. Для карт, не имеющих дополнительного условия (\"ограничения\", `has_restriction=0`, таких карт было найдено 118), распределения сходится к начальному распределению:"
   ]
  },
  {
   "cell_type": "markdown",
   "id": "41df131c",
   "metadata": {},
   "source": [
    "<img src='visualizations/mana-types-no-restriction.png' width=800/>"
   ]
  },
  {
   "cell_type": "markdown",
   "id": "57eda7d2",
   "metadata": {},
   "source": [
    "Распределение по `has_restriction=1` (только 118 объектов):"
   ]
  },
  {
   "cell_type": "markdown",
   "id": "da21664e",
   "metadata": {},
   "source": [
    "<img src='visualizations/mana-types-has-restriction.png' width=800/>"
   ]
  }
 ],
 "metadata": {
  "kernelspec": {
   "display_name": "Python 3 (ipykernel)",
   "language": "python",
   "name": "python3"
  },
  "language_info": {
   "codemirror_mode": {
    "name": "ipython",
    "version": 3
   },
   "file_extension": ".py",
   "mimetype": "text/x-python",
   "name": "python",
   "nbconvert_exporter": "python",
   "pygments_lexer": "ipython3",
   "version": "3.9.12"
  }
 },
 "nbformat": 4,
 "nbformat_minor": 5
}
